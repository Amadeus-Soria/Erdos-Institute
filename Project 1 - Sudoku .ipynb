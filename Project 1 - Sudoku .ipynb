{
 "cells": [
  {
   "cell_type": "code",
   "execution_count": 1,
   "id": "8fbb013f",
   "metadata": {},
   "outputs": [
    {
     "name": "stdout",
     "output_type": "stream",
     "text": [
      "Requirement already satisfied: qiskit in c:\\users\\amade\\anaconda3\\lib\\site-packages (2.0.2)\n",
      "Requirement already satisfied: scipy>=1.5 in c:\\users\\amade\\anaconda3\\lib\\site-packages (from qiskit) (1.7.3)\n",
      "Requirement already satisfied: symengine<0.14,>=0.11 in c:\\users\\amade\\anaconda3\\lib\\site-packages (from qiskit) (0.13.0)\n",
      "Requirement already satisfied: rustworkx>=0.15.0 in c:\\users\\amade\\anaconda3\\lib\\site-packages (from qiskit) (0.16.0)\n",
      "Requirement already satisfied: typing-extensions in c:\\users\\amade\\anaconda3\\lib\\site-packages (from qiskit) (4.1.1)\n",
      "Requirement already satisfied: sympy>=1.3 in c:\\users\\amade\\anaconda3\\lib\\site-packages (from qiskit) (1.10.1)\n",
      "Requirement already satisfied: python-dateutil>=2.8.0 in c:\\users\\amade\\anaconda3\\lib\\site-packages (from qiskit) (2.8.2)\n",
      "Requirement already satisfied: numpy<3,>=1.17 in c:\\users\\amade\\anaconda3\\lib\\site-packages (from qiskit) (1.21.5)\n",
      "Requirement already satisfied: stevedore>=3.0.0 in c:\\users\\amade\\anaconda3\\lib\\site-packages (from qiskit) (5.4.1)\n",
      "Requirement already satisfied: dill>=0.3 in c:\\users\\amade\\anaconda3\\lib\\site-packages (from qiskit) (0.4.0)\n",
      "Requirement already satisfied: six>=1.5 in c:\\users\\amade\\anaconda3\\lib\\site-packages (from python-dateutil>=2.8.0->qiskit) (1.16.0)\n",
      "Requirement already satisfied: pbr>=2.0.0 in c:\\users\\amade\\anaconda3\\lib\\site-packages (from stevedore>=3.0.0->qiskit) (6.1.1)\n",
      "Requirement already satisfied: setuptools in c:\\users\\amade\\anaconda3\\lib\\site-packages (from pbr>=2.0.0->stevedore>=3.0.0->qiskit) (61.2.0)\n",
      "Requirement already satisfied: mpmath>=0.19 in c:\\users\\amade\\anaconda3\\lib\\site-packages (from sympy>=1.3->qiskit) (1.2.1)\n",
      "Requirement already satisfied: qiskit_aer in c:\\users\\amade\\anaconda3\\lib\\site-packages (0.17.0)\n",
      "Requirement already satisfied: qiskit>=1.1.0 in c:\\users\\amade\\anaconda3\\lib\\site-packages (from qiskit_aer) (2.0.2)\n",
      "Requirement already satisfied: numpy>=1.16.3 in c:\\users\\amade\\anaconda3\\lib\\site-packages (from qiskit_aer) (1.21.5)\n",
      "Requirement already satisfied: scipy>=1.0 in c:\\users\\amade\\anaconda3\\lib\\site-packages (from qiskit_aer) (1.7.3)\n",
      "Requirement already satisfied: psutil>=5 in c:\\users\\amade\\anaconda3\\lib\\site-packages (from qiskit_aer) (5.8.0)\n",
      "Requirement already satisfied: typing-extensions in c:\\users\\amade\\anaconda3\\lib\\site-packages (from qiskit>=1.1.0->qiskit_aer) (4.1.1)\n",
      "Requirement already satisfied: dill>=0.3 in c:\\users\\amade\\anaconda3\\lib\\site-packages (from qiskit>=1.1.0->qiskit_aer) (0.4.0)\n",
      "Requirement already satisfied: sympy>=1.3 in c:\\users\\amade\\anaconda3\\lib\\site-packages (from qiskit>=1.1.0->qiskit_aer) (1.10.1)\n",
      "Requirement already satisfied: rustworkx>=0.15.0 in c:\\users\\amade\\anaconda3\\lib\\site-packages (from qiskit>=1.1.0->qiskit_aer) (0.16.0)\n",
      "Requirement already satisfied: python-dateutil>=2.8.0 in c:\\users\\amade\\anaconda3\\lib\\site-packages (from qiskit>=1.1.0->qiskit_aer) (2.8.2)\n",
      "Requirement already satisfied: stevedore>=3.0.0 in c:\\users\\amade\\anaconda3\\lib\\site-packages (from qiskit>=1.1.0->qiskit_aer) (5.4.1)\n",
      "Requirement already satisfied: symengine<0.14,>=0.11 in c:\\users\\amade\\anaconda3\\lib\\site-packages (from qiskit>=1.1.0->qiskit_aer) (0.13.0)\n",
      "Requirement already satisfied: six>=1.5 in c:\\users\\amade\\anaconda3\\lib\\site-packages (from python-dateutil>=2.8.0->qiskit>=1.1.0->qiskit_aer) (1.16.0)\n",
      "Requirement already satisfied: pbr>=2.0.0 in c:\\users\\amade\\anaconda3\\lib\\site-packages (from stevedore>=3.0.0->qiskit>=1.1.0->qiskit_aer) (6.1.1)\n",
      "Requirement already satisfied: setuptools in c:\\users\\amade\\anaconda3\\lib\\site-packages (from pbr>=2.0.0->stevedore>=3.0.0->qiskit>=1.1.0->qiskit_aer) (61.2.0)\n",
      "Requirement already satisfied: mpmath>=0.19 in c:\\users\\amade\\anaconda3\\lib\\site-packages (from sympy>=1.3->qiskit>=1.1.0->qiskit_aer) (1.2.1)\n"
     ]
    }
   ],
   "source": [
    "!pip3 install qiskit\n",
    "!pip3 install qiskit_aer"
   ]
  },
  {
   "cell_type": "code",
   "execution_count": 1,
   "id": "e45fc5a0",
   "metadata": {},
   "outputs": [],
   "source": [
    "#Note: this version still uses measurement and classical bits; need to eliminate dependence on these in future versions\n",
    "\n",
    "\n",
    "import matplotlib.pyplot as plt\n",
    "import numpy as np\n",
    "import math\n",
    "import qiskit\n",
    "from qiskit_aer import Aer\n",
    "from qiskit import transpile\n",
    "from qiskit.visualization import plot_histogram\n",
    "from qiskit import QuantumCircuit, ClassicalRegister, QuantumRegister"
   ]
  },
  {
   "cell_type": "code",
   "execution_count": 2,
   "id": "c8bd24d0",
   "metadata": {},
   "outputs": [],
   "source": [
    "#Need to check these condition for solution to sudoku puzzle\n",
    "checks = [[0,1],\n",
    "         [0,2],\n",
    "         [1,3],\n",
    "         [2,3]]"
   ]
  },
  {
   "cell_type": "code",
   "execution_count": 3,
   "id": "385f57aa",
   "metadata": {},
   "outputs": [],
   "source": [
    "#Define our gate\n",
    "def XORGate(Circuit, input1, input2, output):\n",
    "    Circuit.cx(input1, output)\n",
    "    Circuit.cx(input2, output)\n",
    "#Define our oracle    \n",
    "def oracle(Circuit, checks, check_qubits):\n",
    "    j = 0\n",
    "    for i in checks:\n",
    "        XORGate(Circuit, i[0], i[1], check_qubits[j])\n",
    "        j += 1\n",
    "\n",
    "    # Flip 'output' bit if all checks passed\n",
    "    Circuit.mcx(check_qubits, output_qubit)\n",
    "\n",
    "    # Uncompute\n",
    "    j = 0\n",
    "    for i in checks:\n",
    "        XORGate(Circuit, i[0], i[1], check_qubits[j])\n",
    "        j += 1"
   ]
  },
  {
   "cell_type": "code",
   "execution_count": 4,
   "id": "1b46d560",
   "metadata": {},
   "outputs": [],
   "source": [
    "#Define diffuser\n",
    "def diffuser(n):\n",
    "    Circuit = QuantumCircuit(n)\n",
    "    # H-gates\n",
    "    for qubit in range(n):\n",
    "        Circuit.h(qubit)\n",
    "    # X-gates\n",
    "    for qubit in range(n):\n",
    "        Circuit.x(qubit)\n",
    "    # Multi-controlled-X gate\n",
    "    Circuit.h(n-1)\n",
    "    Circuit.mcx(list(range(n-1)), n-1)\n",
    "    Circuit.h(n-1)\n",
    "    # |11..1> -> |00..0>\n",
    "    for qubit in range(n):\n",
    "        Circuit.x(qubit)\n",
    "    # |00..0> -> |s>\n",
    "    for qubit in range(n):\n",
    "        Circuit.h(qubit)\n",
    "        \n",
    "    U = Circuit.to_gate()\n",
    "    U.name = \"U\"\n",
    "    return U"
   ]
  },
  {
   "cell_type": "code",
   "execution_count": 5,
   "id": "bf76ce80",
   "metadata": {},
   "outputs": [
    {
     "data": {
      "text/html": [
       "<pre style=\"word-wrap: normal;white-space: pre;background: #fff0;line-height: 1.1;font-family: &quot;Courier New&quot;,Courier,monospace\">                          ┌───┐               ░                                                                                       ░ ┌────┐┌─┐         \n",
       "        q_0: ─────────────┤ H ├───────────────░───■─────────■──────────────────────────────────■─────────■────────────────────────────░─┤0   ├┤M├─────────\n",
       "                          ├───┤               ░   │         │                                  │         │                            ░ │    │└╥┘┌─┐      \n",
       "        q_1: ─────────────┤ H ├───────────────░───┼────■────┼─────────■────────────────────────┼────■────┼─────────■──────────────────░─┤1   ├─╫─┤M├──────\n",
       "                          ├───┤               ░   │    │    │         │                        │    │    │         │                  ░ │  U │ ║ └╥┘┌─┐   \n",
       "        q_2: ─────────────┤ H ├───────────────░───┼────┼────┼────■────┼─────────■──────────────┼────┼────┼────■────┼─────────■────────░─┤2   ├─╫──╫─┤M├───\n",
       "                          ├───┤               ░   │    │    │    │    │         │              │    │    │    │    │         │        ░ │    │ ║  ║ └╥┘┌─┐\n",
       "        q_3: ─────────────┤ H ├───────────────░───┼────┼────┼────┼────┼────■────┼────■─────────┼────┼────┼────┼────┼────■────┼────■───░─┤3   ├─╫──╫──╫─┤M├\n",
       "                          └───┘               ░ ┌─┴─┐┌─┴─┐  │    │    │    │    │    │       ┌─┴─┐┌─┴─┐  │    │    │    │    │    │   ░ └────┘ ║  ║  ║ └╥┘\n",
       "        c_0: ─────────────────────────────────░─┤ X ├┤ X ├──┼────┼────┼────┼────┼────┼────■──┤ X ├┤ X ├──┼────┼────┼────┼────┼────┼───░────────╫──╫──╫──╫─\n",
       "                                              ░ └───┘└───┘┌─┴─┐┌─┴─┐  │    │    │    │    │  └───┘└───┘┌─┴─┐┌─┴─┐  │    │    │    │   ░        ║  ║  ║  ║ \n",
       "        c_1: ─────────────────────────────────░───────────┤ X ├┤ X ├──┼────┼────┼────┼────■────────────┤ X ├┤ X ├──┼────┼────┼────┼───░────────╫──╫──╫──╫─\n",
       "                                              ░           └───┘└───┘┌─┴─┐┌─┴─┐  │    │    │            └───┘└───┘┌─┴─┐┌─┴─┐  │    │   ░        ║  ║  ║  ║ \n",
       "        c_2: ─────────────────────────────────░─────────────────────┤ X ├┤ X ├──┼────┼────■──────────────────────┤ X ├┤ X ├──┼────┼───░────────╫──╫──╫──╫─\n",
       "                                              ░                     └───┘└───┘┌─┴─┐┌─┴─┐  │                      └───┘└───┘┌─┴─┐┌─┴─┐ ░        ║  ║  ║  ║ \n",
       "        c_3: ─────────────────────────────────░───────────────────────────────┤ X ├┤ X ├──■────────────────────────────────┤ X ├┤ X ├─░────────╫──╫──╫──╫─\n",
       "             ┌──────────────────────────────┐ ░                               └───┘└───┘┌─┴─┐                              └───┘└───┘ ░        ║  ║  ║  ║ \n",
       "        out: ┤ Initialize(0.70711,-0.70711) ├─░─────────────────────────────────────────┤ X ├─────────────────────────────────────────░────────╫──╫──╫──╫─\n",
       "             └──────────────────────────────┘ ░                                         └───┘                                         ░        ║  ║  ║  ║ \n",
       "classbits: 4/══════════════════════════════════════════════════════════════════════════════════════════════════════════════════════════════════╩══╩══╩══╩═\n",
       "                                                                                                                                               0  1  2  3 </pre>"
      ],
      "text/plain": [
       "                          ┌───┐               ░                                                                                       ░ ┌────┐┌─┐         \n",
       "        q_0: ─────────────┤ H ├───────────────░───■─────────■──────────────────────────────────■─────────■────────────────────────────░─┤0   ├┤M├─────────\n",
       "                          ├───┤               ░   │         │                                  │         │                            ░ │    │└╥┘┌─┐      \n",
       "        q_1: ─────────────┤ H ├───────────────░───┼────■────┼─────────■────────────────────────┼────■────┼─────────■──────────────────░─┤1   ├─╫─┤M├──────\n",
       "                          ├───┤               ░   │    │    │         │                        │    │    │         │                  ░ │  U │ ║ └╥┘┌─┐   \n",
       "        q_2: ─────────────┤ H ├───────────────░───┼────┼────┼────■────┼─────────■──────────────┼────┼────┼────■────┼─────────■────────░─┤2   ├─╫──╫─┤M├───\n",
       "                          ├───┤               ░   │    │    │    │    │         │              │    │    │    │    │         │        ░ │    │ ║  ║ └╥┘┌─┐\n",
       "        q_3: ─────────────┤ H ├───────────────░───┼────┼────┼────┼────┼────■────┼────■─────────┼────┼────┼────┼────┼────■────┼────■───░─┤3   ├─╫──╫──╫─┤M├\n",
       "                          └───┘               ░ ┌─┴─┐┌─┴─┐  │    │    │    │    │    │       ┌─┴─┐┌─┴─┐  │    │    │    │    │    │   ░ └────┘ ║  ║  ║ └╥┘\n",
       "        c_0: ─────────────────────────────────░─┤ X ├┤ X ├──┼────┼────┼────┼────┼────┼────■──┤ X ├┤ X ├──┼────┼────┼────┼────┼────┼───░────────╫──╫──╫──╫─\n",
       "                                              ░ └───┘└───┘┌─┴─┐┌─┴─┐  │    │    │    │    │  └───┘└───┘┌─┴─┐┌─┴─┐  │    │    │    │   ░        ║  ║  ║  ║ \n",
       "        c_1: ─────────────────────────────────░───────────┤ X ├┤ X ├──┼────┼────┼────┼────■────────────┤ X ├┤ X ├──┼────┼────┼────┼───░────────╫──╫──╫──╫─\n",
       "                                              ░           └───┘└───┘┌─┴─┐┌─┴─┐  │    │    │            └───┘└───┘┌─┴─┐┌─┴─┐  │    │   ░        ║  ║  ║  ║ \n",
       "        c_2: ─────────────────────────────────░─────────────────────┤ X ├┤ X ├──┼────┼────■──────────────────────┤ X ├┤ X ├──┼────┼───░────────╫──╫──╫──╫─\n",
       "                                              ░                     └───┘└───┘┌─┴─┐┌─┴─┐  │                      └───┘└───┘┌─┴─┐┌─┴─┐ ░        ║  ║  ║  ║ \n",
       "        c_3: ─────────────────────────────────░───────────────────────────────┤ X ├┤ X ├──■────────────────────────────────┤ X ├┤ X ├─░────────╫──╫──╫──╫─\n",
       "             ┌──────────────────────────────┐ ░                               └───┘└───┘┌─┴─┐                              └───┘└───┘ ░        ║  ║  ║  ║ \n",
       "        out: ┤ Initialize(0.70711,-0.70711) ├─░─────────────────────────────────────────┤ X ├─────────────────────────────────────────░────────╫──╫──╫──╫─\n",
       "             └──────────────────────────────┘ ░                                         └───┘                                         ░        ║  ║  ║  ║ \n",
       "classbits: 4/══════════════════════════════════════════════════════════════════════════════════════════════════════════════════════════════════╩══╩══╩══╩═\n",
       "                                                                                                                                               0  1  2  3 "
      ]
     },
     "execution_count": 5,
     "metadata": {},
     "output_type": "execute_result"
    }
   ],
   "source": [
    "              \n",
    "qubits = QuantumRegister(4, name='q')\n",
    "check_qubits = QuantumRegister(4, name='c')\n",
    "output_qubit = QuantumRegister(1, name='out')\n",
    "classbits = ClassicalRegister(4, name='classbits')\n",
    "\n",
    "\n",
    "Circuit = QuantumCircuit(qubits, check_qubits, output_qubit, classbits)\n",
    "\n",
    "# Initialize state\n",
    "Circuit.initialize([1, -1]/np.sqrt(2), output_qubit)\n",
    "\n",
    "# Initialize qubits in state |s>\n",
    "Circuit.h(qubits)\n",
    "Circuit.barrier()  # for visual separation\n",
    "\n",
    "# Oracle once\n",
    "oracle(Circuit, checks, check_qubits)\n",
    "Circuit.barrier()  # for visual separation\n",
    "# Apply our diffuser\n",
    "Circuit.append(diffuser(4), [0,1,2,3])\n",
    "\n",
    "# ## Apply Oracle again\n",
    "# oracle(Circuit, checks, check_qubits)\n",
    "# Circuit.barrier()  # for visual separation\n",
    "# Circuit.append(diffuser(4), [0,1,2,3])\n",
    "\n",
    "# Measure (?)\n",
    "Circuit.measure(qubits, classbits)\n",
    "\n",
    "Circuit.draw(fold=-1)"
   ]
  },
  {
   "cell_type": "code",
   "execution_count": 6,
   "id": "f7d3efb6",
   "metadata": {},
   "outputs": [
    {
     "data": {
      "image/png": "[encoded data removed]",
      "text/plain": [
       "<Figure size 432x288 with 1 Axes>"
      ]
     },
     "execution_count": 6,
     "metadata": {},
     "output_type": "execute_result"
    }
   ],
   "source": [
    "# Plot results\n",
    "sim = Aer.get_backend('qasm_simulator')\n",
    "simulator = Aer.get_backend('qasm_simulator')\n",
    "transpiled_Circuit = transpile(Circuit, simulator)\n",
    "result = sim.run(transpiled_Circuit).result()\n",
    "plot_histogram(result.get_counts())"
   ]
  },
  {
   "cell_type": "code",
   "execution_count": null,
   "id": "32c500a7",
   "metadata": {},
   "outputs": [],
   "source": []
  }
 ],
 "metadata": {
  "kernelspec": {
   "display_name": "Python 3 (ipykernel)",
   "language": "python",
   "name": "python3"
  },
  "language_info": {
   "codemirror_mode": {
    "name": "ipython",
    "version": 3
   },
   "file_extension": ".py",
   "mimetype": "text/x-python",
   "name": "python",
   "nbconvert_exporter": "python",
   "pygments_lexer": "ipython3",
   "version": "3.9.12"
  }
 },
 "nbformat": 4,
 "nbformat_minor": 5
}
