{
 "cells": [
  {
   "cell_type": "code",
   "execution_count": 1,
   "id": "d364cfee",
   "metadata": {},
   "outputs": [],
   "source": [
    "import matplotlib.pyplot as plt\n",
    "import numpy as np\n",
    "import math\n",
    "import qiskit\n",
    "from qiskit_aer import Aer\n",
    "from qiskit import transpile\n",
    "from qiskit.visualization import plot_histogram\n",
    "from qiskit import QuantumCircuit, ClassicalRegister, QuantumRegister\n",
    "from qiskit.circuit import QuantumCircuit, QuantumRegister, AncillaRegister, Parameter\n",
    "from qiskit.quantum_info import Statevector, Operator\n",
    "import pylatexenc\n"
   ]
  },
  {
   "cell_type": "code",
   "execution_count": 2,
   "id": "09a84333",
   "metadata": {},
   "outputs": [],
   "source": [
    "def inverse_quantum_fourier_transform(n):\n",
    "    quantum_register = QuantumRegister(size=n, name=\"x\")\n",
    "    inverse_QFT_circuit = QuantumCircuit(quantum_register, name=f\"IQFT\")\n",
    "\n",
    "    for i, q in enumerate(reversed(quantum_register), start=1):\n",
    "        for j, p in enumerate(reversed(quantum_register[n + 1 - i:]), start=1):\n",
    "            inverse_QFT_circuit.cp(- np.pi / (1 << (i - j)), q, p)\n",
    "        inverse_QFT_circuit.h(q)\n",
    "\n",
    "    for q, p in zip(quantum_register[:n >> 1], reversed(quantum_register[n >> 1:])):\n",
    "        inverse_QFT_circuit.swap(q, p)\n",
    "\n",
    "    return inverse_QFT_circuit.to_gate()"
   ]
  },
  {
   "cell_type": "code",
   "execution_count": 4,
   "id": "a53d1d11",
   "metadata": {},
   "outputs": [
    {
     "name": "stdout",
     "output_type": "stream",
     "text": [
      "                  \n",
      " q0: ──────■──────\n",
      "     ┌─────┴─────┐\n",
      "q_0: ┤0          ├\n",
      "     │  Diagonal │\n",
      "q_1: ┤1          ├\n",
      "     └───────────┘\n"
     ]
    },
    {
     "data": {
      "image/png": "[encoded data removed]",
      "text/plain": [
       "<Figure size 568.197x325.08 with 1 Axes>"
      ]
     },
     "execution_count": 4,
     "metadata": {},
     "output_type": "execute_result"
    }
   ],
   "source": [
    "n= 3\n",
    "q_reg = QuantumRegister(size=n, name=\"q\")\n",
    "anc_reg = AncillaRegister(size=2, name=r\"\\psi\")\n",
    "circuit = QuantumCircuit(q_reg, anc_reg, name=\"QPE\")\n",
    "\n",
    "Eigen_val = [1,1,1,1]\n",
    "\n",
    "circuit.h(q_reg) # Hadamard\n",
    "circuit.x(anc_reg) # preparing psi\n",
    "\n",
    "U = qiskit.circuit.library.Diagonal(Eigen_val).control(1)\n",
    "print(U)\n",
    "for i, q in enumerate(q_reg):\n",
    "    circuit.compose(U,[q,3,4],inplace=True)\n",
    "    \n",
    "circuit.compose(inverse_quantum_fourier_transform(n), inplace=True)\n",
    "\n",
    "circuit.draw(output=\"mpl\", style=\"bw\")"
   ]
  },
  {
   "cell_type": "code",
   "execution_count": 10,
   "id": "93f0b718",
   "metadata": {},
   "outputs": [
    {
     "name": "stdout",
     "output_type": "stream",
     "text": [
      "0.7139578264331675\n"
     ]
    }
   ],
   "source": [
    "# import random\n",
    "# random_number = random.random()\n",
    "# for j in linspace(0,2**n)\n",
    "#     if random_number >=.5\n",
    "#         Eigen[j] = 1\n",
    "#         else\n",
    "#         Eigen[j] = -1\n",
    "    \n",
    "# print(random_number)"
   ]
  },
  {
   "cell_type": "code",
   "execution_count": null,
   "id": "aa05d972",
   "metadata": {},
   "outputs": [],
   "source": []
  },
  {
   "cell_type": "code",
   "execution_count": null,
   "id": "f345da7a",
   "metadata": {},
   "outputs": [],
   "source": []
  }
 ],
 "metadata": {
  "kernelspec": {
   "display_name": "Python 3 (ipykernel)",
   "language": "python",
   "name": "python3"
  },
  "language_info": {
   "codemirror_mode": {
    "name": "ipython",
    "version": 3
   },
   "file_extension": ".py",
   "mimetype": "text/x-python",
   "name": "python",
   "nbconvert_exporter": "python",
   "pygments_lexer": "ipython3",
   "version": "3.9.12"
  }
 },
 "nbformat": 4,
 "nbformat_minor": 5
}
